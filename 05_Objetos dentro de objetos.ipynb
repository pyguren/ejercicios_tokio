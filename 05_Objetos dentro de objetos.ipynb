{
 "cells": [
  {
   "cell_type": "markdown",
   "metadata": {},
   "source": [
    "## Recuperemos la clase Pelicula con la que ya hemos trabajado"
   ]
  },
  {
   "cell_type": "code",
   "execution_count": null,
   "metadata": {},
   "outputs": [],
   "source": [
    "class Pelicula:\n",
    "    \n",
    "    # Constructor de clase\n",
    "    def __init__(self, titulo, duracion, lanzamiento):\n",
    "        self.titulo = titulo\n",
    "        self.duracion = duracion\n",
    "        self.lanzamiento = lanzamiento\n",
    "        print('Se ha creado la película:',self.titulo)\n",
    "        \n",
    "    def __str__(self):\n",
    "        return \"{} ({})\".format(self.titulo,self.lanzamiento)"
   ]
  },
  {
   "cell_type": "markdown",
   "metadata": {},
   "source": [
    "## Vamos a crear un director"
   ]
  },
  {
   "cell_type": "code",
   "execution_count": null,
   "metadata": {},
   "outputs": [],
   "source": [
    "class Director:\n",
    "    \n",
    "    # Constructor de clase\n",
    "    def __init__(self, nombre, apellido, edad=\"desconocida\"):\n",
    "        self.nombre = nombre\n",
    "        self.apellido = apellido\n",
    "        self.edad = edad\n",
    "        print(\"Se ha creado el director {} {} con una edad {}\".format(self.nombre, self.apellido, self.edad))\n",
    "        \n",
    "    def __str__(self):\n",
    "        return \"Director {} {} con edad {}\".format(self.nombre, self.apellido, self.edad)\n",
    "    \n",
    "d1 = Director(\"Ridley\", \"Scott\", 84)\n",
    "d2 = Director(\"George\", \"Lucas\")"
   ]
  },
  {
   "cell_type": "markdown",
   "metadata": {},
   "source": [
    "#### Tenemos objetos de la clase Director, vamos a reconstruir la clase Pelicula para poder añadir la información del Director a cada pelicula"
   ]
  },
  {
   "cell_type": "code",
   "execution_count": null,
   "metadata": {},
   "outputs": [],
   "source": [
    "class Pelicula:\n",
    "    \n",
    "    # Constructor de clase\n",
    "    def __init__(self, titulo, duracion, lanzamiento, director):\n",
    "        self.titulo = titulo\n",
    "        self.duracion = duracion\n",
    "        self.lanzamiento = lanzamiento\n",
    "        self.director = director\n",
    "        print('Se ha creado la película:',self.titulo)\n",
    "        \n",
    "    def __str__(self):\n",
    "        return \"{} ({}) -> {}\".format(self.titulo, self.lanzamiento, self.director)\n",
    "    \n",
    "p_alien = Pelicula(\"Alien el octavo pasajero\", 200, 1979, d1)\n",
    "print(p_alien)"
   ]
  },
  {
   "cell_type": "code",
   "execution_count": null,
   "metadata": {},
   "outputs": [],
   "source": [
    "# Comprobación\n",
    "print(type(p_alien.titulo))\n",
    "print(type(p_alien.duracion))\n",
    "print(type(p_alien.lanzamiento))\n",
    "print(type(p_alien.director))"
   ]
  },
  {
   "cell_type": "markdown",
   "metadata": {},
   "source": [
    "## Algo más avanzado: Creando un catálogo de películas\n",
    "Vamos a utilizar algo muy común, crear listas de objetos, de esta forma podemos almacenar gran cantidad de información en un único sitio y gestionarlo con la facilidad que nos proporcionan las listas"
   ]
  },
  {
   "cell_type": "code",
   "execution_count": null,
   "metadata": {},
   "outputs": [],
   "source": [
    "# Retomemos la clase Pelicula original\n",
    "class Pelicula:\n",
    "    \n",
    "    # Constructor de clase\n",
    "    def __init__(self, titulo, duracion, lanzamiento):\n",
    "        self.titulo = titulo\n",
    "        self.duracion = duracion\n",
    "        self.lanzamiento = lanzamiento\n",
    "        print('Se ha creado la película:',self.titulo)\n",
    "        \n",
    "    def __str__(self):\n",
    "        return \"{} ({})\".format(self.titulo,self.lanzamiento)\n",
    "\n",
    "class Catalogo:\n",
    "    \n",
    "    peliculas = []  # Esta lista contendrá objetos de la clase Pelicula\n",
    "    \n",
    "    # El valor por defecto del catálogo es peliculas=[]\n",
    "    def __init__(self,peliculas=[]):\n",
    "        self.peliculas = peliculas\n",
    "        if(len(self.peliculas) == 0):\n",
    "            print('Se ha creado el catalogo vacío')\n",
    "        else:\n",
    "            print('Se ha creado el catalogo con las peliculas asignadas')\n",
    "        \n",
    "    def agregar(self,p):  # p será un objeto Pelicula\n",
    "        self.peliculas.append(p)\n",
    "        print('Se ha agregado al catalogo la película: {}'.format(p.titulo))\n",
    "        \n",
    "    def mostrar(self):\n",
    "        for p in self.peliculas:\n",
    "            print(p)  # Print toma por defecto str(p)"
   ]
  },
  {
   "cell_type": "code",
   "execution_count": null,
   "metadata": {},
   "outputs": [],
   "source": [
    "# Si nosotros hacemos esto, solo estamos guardando una lista de titulos de peliculas\n",
    "# Esto no es lo que queremos, nosotros dentro del catalogo queremos tener varias peliculas pero con toda su información\n",
    "c = Catalogo([\"El Padrino\", \"Alien\"])"
   ]
  },
  {
   "cell_type": "code",
   "execution_count": null,
   "metadata": {},
   "outputs": [],
   "source": [
    "p1 = Pelicula(\"El Padrino\",175,1972)\n",
    "p2 = Pelicula(\"Alien el octavo pasajero\", 200, 1979)\n",
    "listaPeliculas = [p1, p2]\n",
    "print(type(listaPeliculas))"
   ]
  },
  {
   "cell_type": "code",
   "execution_count": null,
   "metadata": {},
   "outputs": [],
   "source": [
    "c = Catalogo(listaPeliculas) # Creamos el catalogo con dos pelicula"
   ]
  },
  {
   "cell_type": "code",
   "execution_count": null,
   "metadata": {},
   "outputs": [],
   "source": [
    "c.mostrar()"
   ]
  },
  {
   "cell_type": "code",
   "execution_count": null,
   "metadata": {},
   "outputs": [],
   "source": [
    "c.agregar(Pelicula(\"El Padrino: Parte 2\",202,1974))  # Añadimos una película directamente"
   ]
  },
  {
   "cell_type": "code",
   "execution_count": null,
   "metadata": {},
   "outputs": [],
   "source": [
    "# Alternativa a la linea anterior\n",
    "p3 = Pelicula(\"El Padrino: Parte 2\",202,1974)\n",
    "c.agregar(p3)"
   ]
  },
  {
   "cell_type": "code",
   "execution_count": null,
   "metadata": {},
   "outputs": [],
   "source": [
    "c.mostrar()"
   ]
  },
  {
   "cell_type": "code",
   "execution_count": null,
   "metadata": {},
   "outputs": [],
   "source": [
    "# Tambien podemos crear un catalogo vacio\n",
    "c2 = Catalogo()\n",
    "c2.mostrar()"
   ]
  },
  {
   "cell_type": "code",
   "execution_count": null,
   "metadata": {},
   "outputs": [],
   "source": [
    "# Todo junto\n",
    "pM1 = Pelicula(\"Matrix\",175,1999)\n",
    "pM2 = Pelicula(\"Matrix Reloaded\",175,2003)\n",
    "pM3 = Pelicula(\"Matrix Revolutions\",175,2003)\n",
    "c3 = Catalogo([pM1, pM2, pM3])\n",
    "c3.mostrar()"
   ]
  }
 ],
 "metadata": {
  "kernelspec": {
   "display_name": "Python 3",
   "language": "python",
   "name": "python3"
  },
  "language_info": {
   "codemirror_mode": {
    "name": "ipython",
    "version": 3
   },
   "file_extension": ".py",
   "mimetype": "text/x-python",
   "name": "python",
   "nbconvert_exporter": "python",
   "pygments_lexer": "ipython3",
   "version": "3.8.3"
  }
 },
 "nbformat": 4,
 "nbformat_minor": 1
}

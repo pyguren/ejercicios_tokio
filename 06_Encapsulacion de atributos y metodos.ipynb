{
 "cells": [
  {
   "cell_type": "markdown",
   "metadata": {},
   "source": [
    "# Encapsulación\n",
    "Consiste en denegar el acceso a los atributos y métodos internos de la clase desde el exterior.\n",
    "\n",
    "En Python no existe, pero se puede simular precediendo atributos y métodos con dos barras bajas __:"
   ]
  },
  {
   "cell_type": "code",
   "execution_count": null,
   "metadata": {},
   "outputs": [],
   "source": [
    "class Ejemplo:\n",
    "    \n",
    "    __atributo_privado = \"Soy un atributo inalcanzable desde fuera\"\n",
    "    \n",
    "    def __metodo_privado(self):\n",
    "        print(\"Soy un método inalcanzable desde fuera\")\n",
    "        \n",
    "# Programa principal (fuera de la clase Ejemplo)\n",
    "e = Ejemplo()"
   ]
  },
  {
   "cell_type": "code",
   "execution_count": null,
   "metadata": {},
   "outputs": [],
   "source": [
    "e.__metodo_privado()"
   ]
  },
  {
   "cell_type": "code",
   "execution_count": null,
   "metadata": {},
   "outputs": [],
   "source": [
    "e.__atributo_privado"
   ]
  },
  {
   "cell_type": "markdown",
   "metadata": {},
   "source": [
    "## Cómo acceder correctamente -> Getters y Setters\n",
    "Internamente la clase sí puede acceder a sus atributos y métodos encapsulados, el truco consiste en acceder a ellos a través de los GETTER y SETTER correspondiente para las variables y crear metodos publicos que realicen internamente la llamada a los metodos privados"
   ]
  },
  {
   "cell_type": "code",
   "execution_count": null,
   "metadata": {},
   "outputs": [],
   "source": [
    "class Ejemplo:\n",
    "    __atributo_privado = \"Soy un atributo inalcanzable desde fuera\"\n",
    "\n",
    "    def __metodo_privado(self):\n",
    "        print(\"Soy un método inalcanzable desde fuera\")\n",
    "        \n",
    "    def metodo_publico(self):\n",
    "        return self.__metodo_privado()\n",
    "    \n",
    "    # Getters\n",
    "    @property\n",
    "    def atributo_privado(self):\n",
    "        print(\"ESTOY EN EL GETTER\")\n",
    "        return self.__atributo_privado\n",
    "\n",
    "    # Setters\n",
    "    @atributo_privado.setter\n",
    "    def atributo_privado(self, nuevoValor): \n",
    "        print(\"ESTOY EN EL SETTER\")\n",
    "        self.__atributo_privado = nuevoValor\n",
    "    \n",
    "# Programa principal (fuera de la clase Ejemplo)\n",
    "e = Ejemplo()"
   ]
  },
  {
   "cell_type": "code",
   "execution_count": null,
   "metadata": {},
   "outputs": [],
   "source": [
    "# Probamos a acceder a un atributo y observamos que se hace a traves del GETTER\n",
    "print(e.atributo_privado)"
   ]
  },
  {
   "cell_type": "code",
   "execution_count": null,
   "metadata": {},
   "outputs": [],
   "source": [
    "# Probamos a modificar un atributo y observamos que se hace a traves del SETTER\n",
    "e.atributo_privado = \"hola mundo\""
   ]
  },
  {
   "cell_type": "code",
   "execution_count": null,
   "metadata": {},
   "outputs": [],
   "source": [
    "print(e.atributo_privado)"
   ]
  },
  {
   "cell_type": "code",
   "execution_count": null,
   "metadata": {},
   "outputs": [],
   "source": [
    "e.__metodo_privado()"
   ]
  },
  {
   "cell_type": "code",
   "execution_count": null,
   "metadata": {},
   "outputs": [],
   "source": [
    "# Por ultimo comprobamos que podemos acceder al metodo privado a traves del metodo publico\n",
    "e.metodo_publico()"
   ]
  },
  {
   "cell_type": "markdown",
   "metadata": {},
   "source": [
    "Los GETTER y los SETTER no se tienen porque llamar igual que sus variables, pero __SI ES RECOMENDABLE__"
   ]
  },
  {
   "cell_type": "code",
   "execution_count": null,
   "metadata": {},
   "outputs": [],
   "source": [
    "class Ejemplo:\n",
    "    __atributo_privado = \"Soy un atributo inalcanzable desde fuera\"\n",
    "\n",
    "    def __metodo_privado(self):\n",
    "        print(\"Soy un método inalcanzable desde fuera\")\n",
    "        \n",
    "    def metodo_publico(self):\n",
    "        return self.__metodo_privado()\n",
    "    \n",
    "    # Getters.\n",
    "    @property\n",
    "    def ver_valor(self):\n",
    "        print(\"ESTOY EN EL GETTER\")\n",
    "        return self.__atributo_privado\n",
    "\n",
    "     # Setters\n",
    "    @ver_valor.setter\n",
    "    def ver_valor(self, nuevoValor):\n",
    "        print(\"ESTOY EN EL SETTER\")\n",
    "        self.__atributo_privado = nuevoValor\n",
    "    \n",
    "# Programa principal (fuera de la clase Ejemplo)\n",
    "e = Ejemplo()"
   ]
  },
  {
   "cell_type": "code",
   "execution_count": null,
   "metadata": {},
   "outputs": [],
   "source": [
    "# Probamos a acceder a un atributo como antes Y VEMOS QUE DA ERROR\n",
    "print(e.atributo_privado)"
   ]
  },
  {
   "cell_type": "code",
   "execution_count": null,
   "metadata": {},
   "outputs": [],
   "source": [
    "# Probamos a acceder al atributo con el nombre que hemos puesto en el GETTER\n",
    "print(e.ver_valor)"
   ]
  },
  {
   "cell_type": "markdown",
   "metadata": {},
   "source": [
    "Como se ve, hemos asignado el nombre ver_valor al getter de la variable atributo_privado. Ha funcionado, pero ahora necesitamos recordar dos nombres de variable para poder acceder a una ... Por eso se utiliza el mismo nombre.\n",
    "<br>Lo que es importante, es que __el nombre del método setter tiene que ser el mismo que el de su correspondiente getter__ "
   ]
  },
  {
   "cell_type": "markdown",
   "metadata": {},
   "source": [
    "## Ejemplo con clase Persona"
   ]
  },
  {
   "cell_type": "code",
   "execution_count": null,
   "metadata": {},
   "outputs": [],
   "source": [
    "class Persona:\n",
    "    \n",
    "    def __init__(self, nombre, edad):\n",
    "        self.__nombre = nombre\n",
    "        self.__edad = edad\n",
    "\n",
    "    # Getters\n",
    "    @property\n",
    "    def nombre(self):\n",
    "        print(\"ESTOY EN EL GETTER DE NOMBRE\")\n",
    "        return self.__nombre\n",
    "\n",
    "     # Setters\n",
    "    @nombre.setter\n",
    "    def nombre(self, nuevoNombre):\n",
    "        print(\"ESTOY EN EL SETTER DE NOMBRE\")\n",
    "        self.__nombre = nuevoNombre\n",
    "        \n",
    "    @property\n",
    "    def edad(self):\n",
    "        print(\"ESTOY EN EL GETTER DE NOMBRE\")\n",
    "        return self.__edad\n",
    "    \n",
    "    @edad.setter\n",
    "    def edad(self, nuevaEdad):\n",
    "        print(\"ESTOY EN EL SETTER DE EDAD\")\n",
    "        self.__edad = nuevaEdad\n",
    "    \n",
    "p1 = Persona(\"Carlos\", 30)\n",
    "print(p1.nombre)\n",
    "print(p1.edad)"
   ]
  },
  {
   "cell_type": "code",
   "execution_count": null,
   "metadata": {},
   "outputs": [],
   "source": [
    "p1.nombre = \"Cristian\""
   ]
  },
  {
   "cell_type": "code",
   "execution_count": null,
   "metadata": {},
   "outputs": [],
   "source": [
    "print(p1.nombre)"
   ]
  },
  {
   "cell_type": "code",
   "execution_count": null,
   "metadata": {},
   "outputs": [],
   "source": [
    "# Como hemos visto en los ejemplos anteriores, hemos accedido a nuestros atributos privados a través de los métodos \n",
    "# GETTER y SETTER. Si intentasemos acceder directamente a los atributos (__nombre o __edad) nos daría error como vemos ahora:\n",
    "print(p1.__nombre)"
   ]
  },
  {
   "cell_type": "markdown",
   "metadata": {},
   "source": [
    "### getattr y setattr"
   ]
  },
  {
   "cell_type": "code",
   "execution_count": null,
   "metadata": {},
   "outputs": [],
   "source": [
    "# Forma alternativa de invocar a los getter y setter\n",
    "# Esta forma es más clásica (más antigua), pero se sigue utilizando\n",
    "# IMPORTANTE. En la definición y creación de los GETTER y SETTER de la clase no hay ningun cambio\n",
    "p1 = Persona(\"Carlos\", 30)\n",
    "print(getattr(p1, \"nombre\")) # Solicitamos el nombre\n",
    "setattr(p1, \"nombre\", \"Cristian\") # Cambiamos el nombre de Carlos a Cristian\n",
    "print(getattr(p1, \"nombre\")) # Solicitamos el nombre"
   ]
  }
 ],
 "metadata": {
  "kernelspec": {
   "display_name": "Python 3",
   "language": "python",
   "name": "python3"
  },
  "language_info": {
   "codemirror_mode": {
    "name": "ipython",
    "version": 3
   },
   "file_extension": ".py",
   "mimetype": "text/x-python",
   "name": "python",
   "nbconvert_exporter": "python",
   "pygments_lexer": "ipython3",
   "version": "3.8.3"
  }
 },
 "nbformat": 4,
 "nbformat_minor": 1
}
